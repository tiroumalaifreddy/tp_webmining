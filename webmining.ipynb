{
 "cells": [
  {
   "cell_type": "code",
   "execution_count": 1,
   "metadata": {},
   "outputs": [
    {
     "name": "stdout",
     "output_type": "stream",
     "text": [
      "--2023-02-13 14:03:56--  https://people.irisa.fr/Guillaume.Gravier/teaching/ENSAI/data/lesechos.json\n",
      "Resolving people.irisa.fr (people.irisa.fr)... 131.254.254.107\n",
      "Connecting to people.irisa.fr (people.irisa.fr)|131.254.254.107|:443... connected.\n",
      "HTTP request sent, awaiting response... 200 OK\n",
      "Length: 8276509 (7,9M) [application/json]\n",
      "Saving to: ‘lesechos.json’\n",
      "\n",
      "lesechos.json       100%[===================>]   7,89M  11,3MB/s    in 0,7s    \n",
      "\n",
      "2023-02-13 14:03:57 (11,3 MB/s) - ‘lesechos.json’ saved [8276509/8276509]\n",
      "\n",
      "--2023-02-13 14:03:57--  https://people.irisa.fr/Guillaume.Gravier/teaching/ENSAI/data/sources.json\n",
      "Resolving people.irisa.fr (people.irisa.fr)... 131.254.254.107\n",
      "Connecting to people.irisa.fr (people.irisa.fr)|131.254.254.107|:443... connected.\n",
      "HTTP request sent, awaiting response... 200 OK\n",
      "Length: 347 [application/json]\n",
      "Saving to: ‘sources.json’\n",
      "\n",
      "sources.json        100%[===================>]     347  --.-KB/s    in 0s      \n",
      "\n",
      "2023-02-13 14:03:57 (42,9 MB/s) - ‘sources.json’ saved [347/347]\n",
      "\n",
      "Collecting feedparser\n",
      "  Downloading feedparser-6.0.10-py3-none-any.whl (81 kB)\n",
      "\u001b[K     |████████████████████████████████| 81 kB 4.3 MB/s eta 0:00:011\n",
      "\u001b[?25hCollecting sgmllib3k\n",
      "  Downloading sgmllib3k-1.0.0.tar.gz (5.8 kB)\n",
      "Building wheels for collected packages: sgmllib3k\n",
      "  Building wheel for sgmllib3k (setup.py) ... \u001b[?25ldone\n",
      "\u001b[?25h  Created wheel for sgmllib3k: filename=sgmllib3k-1.0.0-py3-none-any.whl size=6064 sha256=d2cc7b028d74f5125f16406a13f901cce60578d2ac56821f4b5cfac6090265e1\n",
      "  Stored in directory: /home/ensai/.cache/pip/wheels/83/63/2f/117884c3b19d46b64d3d61690333aa80c88dc14050e269c546\n",
      "Successfully built sgmllib3k\n",
      "Installing collected packages: sgmllib3k, feedparser\n",
      "Successfully installed feedparser-6.0.10 sgmllib3k-1.0.0\n",
      "Collecting newspaper3k\n",
      "  Downloading newspaper3k-0.2.8-py3-none-any.whl (211 kB)\n",
      "\u001b[K     |████████████████████████████████| 211 kB 3.8 MB/s eta 0:00:01\n",
      "\u001b[?25hRequirement already satisfied: feedparser>=5.2.1 in /home/ensai/.local/lib/python3.8/site-packages (from newspaper3k) (6.0.10)\n",
      "Requirement already satisfied: lxml>=3.6.0 in /home/ensai/.local/lib/python3.8/site-packages (from newspaper3k) (4.9.2)\n",
      "Requirement already satisfied: Pillow>=3.3.0 in /usr/lib/python3/dist-packages (from newspaper3k) (7.0.0)\n",
      "Collecting tinysegmenter==0.3\n",
      "  Downloading tinysegmenter-0.3.tar.gz (16 kB)\n",
      "Requirement already satisfied: nltk>=3.2.1 in /home/ensai/.local/lib/python3.8/site-packages (from newspaper3k) (3.8.1)\n",
      "Collecting cssselect>=0.9.2\n",
      "  Downloading cssselect-1.2.0-py2.py3-none-any.whl (18 kB)\n",
      "Collecting tldextract>=2.0.1\n",
      "  Downloading tldextract-3.4.0-py3-none-any.whl (93 kB)\n",
      "\u001b[K     |████████████████████████████████| 93 kB 2.5 MB/s  eta 0:00:01\n",
      "\u001b[?25hRequirement already satisfied: beautifulsoup4>=4.4.1 in /home/ensai/.local/lib/python3.8/site-packages (from newspaper3k) (4.11.1)\n",
      "Requirement already satisfied: requests>=2.10.0 in /home/ensai/.local/lib/python3.8/site-packages (from newspaper3k) (2.28.1)\n",
      "Requirement already satisfied: python-dateutil>=2.5.3 in /home/ensai/.local/lib/python3.8/site-packages (from newspaper3k) (2.8.2)\n",
      "Collecting feedfinder2>=0.0.4\n",
      "  Downloading feedfinder2-0.0.4.tar.gz (3.3 kB)\n",
      "Requirement already satisfied: PyYAML>=3.11 in /usr/lib/python3/dist-packages (from newspaper3k) (5.3.1)\n",
      "Collecting jieba3k>=0.35.1\n",
      "  Downloading jieba3k-0.35.1.zip (7.4 MB)\n",
      "\u001b[K     |████████████████████████████████| 7.4 MB 790 kB/s eta 0:00:011\n",
      "\u001b[?25hRequirement already satisfied: sgmllib3k in /home/ensai/.local/lib/python3.8/site-packages (from feedparser>=5.2.1->newspaper3k) (1.0.0)\n",
      "Requirement already satisfied: joblib in /home/ensai/.local/lib/python3.8/site-packages (from nltk>=3.2.1->newspaper3k) (1.2.0)\n",
      "Requirement already satisfied: tqdm in /home/ensai/.local/lib/python3.8/site-packages (from nltk>=3.2.1->newspaper3k) (4.56.0)\n",
      "Requirement already satisfied: click in /home/ensai/.local/lib/python3.8/site-packages (from nltk>=3.2.1->newspaper3k) (8.1.3)\n",
      "Requirement already satisfied: regex>=2021.8.3 in /home/ensai/.local/lib/python3.8/site-packages (from nltk>=3.2.1->newspaper3k) (2022.10.31)\n",
      "Collecting requests-file>=1.4\n",
      "  Downloading requests_file-1.5.1-py2.py3-none-any.whl (3.7 kB)\n",
      "Requirement already satisfied: filelock>=3.0.8 in /home/ensai/.local/lib/python3.8/site-packages (from tldextract>=2.0.1->newspaper3k) (3.9.0)\n",
      "Requirement already satisfied: idna in /usr/lib/python3/dist-packages (from tldextract>=2.0.1->newspaper3k) (2.8)\n",
      "Requirement already satisfied: soupsieve>1.2 in /home/ensai/.local/lib/python3.8/site-packages (from beautifulsoup4>=4.4.1->newspaper3k) (2.3.2.post1)\n",
      "Requirement already satisfied: charset-normalizer<3,>=2 in /home/ensai/.local/lib/python3.8/site-packages (from requests>=2.10.0->newspaper3k) (2.1.1)\n",
      "Requirement already satisfied: urllib3<1.27,>=1.21.1 in /usr/lib/python3/dist-packages (from requests>=2.10.0->newspaper3k) (1.25.8)\n",
      "Requirement already satisfied: certifi>=2017.4.17 in /usr/lib/python3/dist-packages (from requests>=2.10.0->newspaper3k) (2019.11.28)\n",
      "Requirement already satisfied: six>=1.5 in /usr/lib/python3/dist-packages (from python-dateutil>=2.5.3->newspaper3k) (1.14.0)\n",
      "Building wheels for collected packages: tinysegmenter, feedfinder2, jieba3k\n",
      "  Building wheel for tinysegmenter (setup.py) ... \u001b[?25ldone\n",
      "\u001b[?25h  Created wheel for tinysegmenter: filename=tinysegmenter-0.3-py3-none-any.whl size=13538 sha256=5281598f0948006bcf694b083cf3d70f340294720fec2133fa495424993e559c\n",
      "  Stored in directory: /home/ensai/.cache/pip/wheels/99/74/83/8fac1c8d9c648cfabebbbffe97a889f6624817f3aa0bbe6c09\n",
      "  Building wheel for feedfinder2 (setup.py) ... \u001b[?25ldone\n",
      "\u001b[?25h  Created wheel for feedfinder2: filename=feedfinder2-0.0.4-py3-none-any.whl size=3355 sha256=96dcc0f51aecb90965c30acc1e33f18999507aa0129574077544014710214f47\n",
      "  Stored in directory: /home/ensai/.cache/pip/wheels/b6/09/68/a9f15498ac02c23dde29f18745bc6a6f574ba4ab41861a3575\n",
      "  Building wheel for jieba3k (setup.py) ... \u001b[?25ldone\n",
      "\u001b[?25h  Created wheel for jieba3k: filename=jieba3k-0.35.1-py3-none-any.whl size=7398406 sha256=797fa105794cf55acada637fb4618522610ed226023debaf809c7c3e4144142b\n",
      "  Stored in directory: /home/ensai/.cache/pip/wheels/1f/7e/0c/54f3b0f5164278677899f2db08f2b07943ce2d024a3c862afb\n",
      "Successfully built tinysegmenter feedfinder2 jieba3k\n",
      "Installing collected packages: tinysegmenter, cssselect, requests-file, tldextract, feedfinder2, jieba3k, newspaper3k\n",
      "Successfully installed cssselect-1.2.0 feedfinder2-0.0.4 jieba3k-0.35.1 newspaper3k-0.2.8 requests-file-1.5.1 tinysegmenter-0.3 tldextract-3.4.0\n",
      "/bin/bash: python: command not found\n"
     ]
    }
   ],
   "source": [
    "!wget https://people.irisa.fr/Guillaume.Gravier/teaching/ENSAI/data/lesechos.json\n",
    "!wget https://people.irisa.fr/Guillaume.Gravier/teaching/ENSAI/data/sources.json\n",
    "!pip install feedparser\n",
    "!pip install newspaper3k"
   ]
  },
  {
   "cell_type": "code",
   "execution_count": 2,
   "metadata": {},
   "outputs": [
    {
     "name": "stdout",
     "output_type": "stream",
     "text": [
      "2023-02-13 14:05:07.966109: I tensorflow/core/platform/cpu_feature_guard.cc:193] This TensorFlow binary is optimized with oneAPI Deep Neural Network Library (oneDNN) to use the following CPU instructions in performance-critical operations:  AVX2 FMA\n",
      "To enable them in other operations, rebuild TensorFlow with the appropriate compiler flags.\n",
      "2023-02-13 14:05:08.265381: W tensorflow/compiler/xla/stream_executor/platform/default/dso_loader.cc:64] Could not load dynamic library 'libcudart.so.11.0'; dlerror: libcudart.so.11.0: cannot open shared object file: No such file or directory\n",
      "2023-02-13 14:05:08.265423: I tensorflow/compiler/xla/stream_executor/cuda/cudart_stub.cc:29] Ignore above cudart dlerror if you do not have a GPU set up on your machine.\n",
      "2023-02-13 14:05:09.396963: W tensorflow/compiler/xla/stream_executor/platform/default/dso_loader.cc:64] Could not load dynamic library 'libnvinfer.so.7'; dlerror: libnvinfer.so.7: cannot open shared object file: No such file or directory\n",
      "2023-02-13 14:05:09.397113: W tensorflow/compiler/xla/stream_executor/platform/default/dso_loader.cc:64] Could not load dynamic library 'libnvinfer_plugin.so.7'; dlerror: libnvinfer_plugin.so.7: cannot open shared object file: No such file or directory\n",
      "2023-02-13 14:05:09.397123: W tensorflow/compiler/tf2tensorrt/utils/py_utils.cc:38] TF-TRT Warning: Cannot dlopen some TensorRT libraries. If you would like to use Nvidia GPU with TensorRT, please make sure the missing libraries mentioned above are installed properly.\n",
      "2023-02-13 14:05:10.646429: W tensorflow/compiler/xla/stream_executor/platform/default/dso_loader.cc:64] Could not load dynamic library 'libcuda.so.1'; dlerror: libcuda.so.1: cannot open shared object file: No such file or directory\n",
      "2023-02-13 14:05:10.646619: W tensorflow/compiler/xla/stream_executor/cuda/cuda_driver.cc:265] failed call to cuInit: UNKNOWN ERROR (303)\n",
      "2023-02-13 14:05:10.646663: I tensorflow/compiler/xla/stream_executor/cuda/cuda_diagnostics.cc:156] kernel driver does not appear to be running on this host (ensai-Precision-3520): /proc/driver/nvidia/version does not exist\n",
      "Collecting fr-core-news-md==3.5.0\n",
      "  Downloading https://github.com/explosion/spacy-models/releases/download/fr_core_news_md-3.5.0/fr_core_news_md-3.5.0-py3-none-any.whl (45.8 MB)\n",
      "\u001b[K     |████████████████████████████████| 45.8 MB 7.7 MB/s eta 0:00:011\n",
      "\u001b[?25hRequirement already satisfied: spacy<3.6.0,>=3.5.0 in /home/ensai/.local/lib/python3.8/site-packages (from fr-core-news-md==3.5.0) (3.5.0)\n",
      "Requirement already satisfied: thinc<8.2.0,>=8.1.0 in /home/ensai/.local/lib/python3.8/site-packages (from spacy<3.6.0,>=3.5.0->fr-core-news-md==3.5.0) (8.1.7)\n",
      "Requirement already satisfied: cymem<2.1.0,>=2.0.2 in /home/ensai/.local/lib/python3.8/site-packages (from spacy<3.6.0,>=3.5.0->fr-core-news-md==3.5.0) (2.0.7)\n",
      "Requirement already satisfied: tqdm<5.0.0,>=4.38.0 in /home/ensai/.local/lib/python3.8/site-packages (from spacy<3.6.0,>=3.5.0->fr-core-news-md==3.5.0) (4.56.0)\n",
      "Requirement already satisfied: requests<3.0.0,>=2.13.0 in /home/ensai/.local/lib/python3.8/site-packages (from spacy<3.6.0,>=3.5.0->fr-core-news-md==3.5.0) (2.28.1)\n",
      "Requirement already satisfied: pydantic!=1.8,!=1.8.1,<1.11.0,>=1.7.4 in /home/ensai/.local/lib/python3.8/site-packages (from spacy<3.6.0,>=3.5.0->fr-core-news-md==3.5.0) (1.10.2)\n",
      "Requirement already satisfied: srsly<3.0.0,>=2.4.3 in /home/ensai/.local/lib/python3.8/site-packages (from spacy<3.6.0,>=3.5.0->fr-core-news-md==3.5.0) (2.4.5)\n",
      "Requirement already satisfied: catalogue<2.1.0,>=2.0.6 in /home/ensai/.local/lib/python3.8/site-packages (from spacy<3.6.0,>=3.5.0->fr-core-news-md==3.5.0) (2.0.8)\n",
      "Requirement already satisfied: typer<0.8.0,>=0.3.0 in /home/ensai/.local/lib/python3.8/site-packages (from spacy<3.6.0,>=3.5.0->fr-core-news-md==3.5.0) (0.7.0)\n",
      "Requirement already satisfied: setuptools in /usr/lib/python3/dist-packages (from spacy<3.6.0,>=3.5.0->fr-core-news-md==3.5.0) (45.2.0)\n",
      "Requirement already satisfied: packaging>=20.0 in /usr/lib/python3/dist-packages (from spacy<3.6.0,>=3.5.0->fr-core-news-md==3.5.0) (20.3)\n",
      "Requirement already satisfied: spacy-legacy<3.1.0,>=3.0.11 in /home/ensai/.local/lib/python3.8/site-packages (from spacy<3.6.0,>=3.5.0->fr-core-news-md==3.5.0) (3.0.12)\n",
      "Requirement already satisfied: spacy-loggers<2.0.0,>=1.0.0 in /home/ensai/.local/lib/python3.8/site-packages (from spacy<3.6.0,>=3.5.0->fr-core-news-md==3.5.0) (1.0.4)\n",
      "Requirement already satisfied: pathy>=0.10.0 in /home/ensai/.local/lib/python3.8/site-packages (from spacy<3.6.0,>=3.5.0->fr-core-news-md==3.5.0) (0.10.1)\n",
      "Requirement already satisfied: numpy>=1.15.0 in /home/ensai/.local/lib/python3.8/site-packages (from spacy<3.6.0,>=3.5.0->fr-core-news-md==3.5.0) (1.23.3)\n",
      "Requirement already satisfied: smart-open<7.0.0,>=5.2.1 in /home/ensai/.local/lib/python3.8/site-packages (from spacy<3.6.0,>=3.5.0->fr-core-news-md==3.5.0) (6.3.0)\n",
      "Requirement already satisfied: jinja2 in /home/ensai/.local/lib/python3.8/site-packages (from spacy<3.6.0,>=3.5.0->fr-core-news-md==3.5.0) (3.1.2)\n",
      "Requirement already satisfied: wasabi<1.2.0,>=0.9.1 in /home/ensai/.local/lib/python3.8/site-packages (from spacy<3.6.0,>=3.5.0->fr-core-news-md==3.5.0) (1.1.1)\n",
      "Requirement already satisfied: langcodes<4.0.0,>=3.2.0 in /home/ensai/.local/lib/python3.8/site-packages (from spacy<3.6.0,>=3.5.0->fr-core-news-md==3.5.0) (3.3.0)\n",
      "Requirement already satisfied: murmurhash<1.1.0,>=0.28.0 in /home/ensai/.local/lib/python3.8/site-packages (from spacy<3.6.0,>=3.5.0->fr-core-news-md==3.5.0) (1.0.9)\n",
      "Requirement already satisfied: preshed<3.1.0,>=3.0.2 in /home/ensai/.local/lib/python3.8/site-packages (from spacy<3.6.0,>=3.5.0->fr-core-news-md==3.5.0) (3.0.8)\n",
      "Requirement already satisfied: blis<0.8.0,>=0.7.8 in /home/ensai/.local/lib/python3.8/site-packages (from thinc<8.2.0,>=8.1.0->spacy<3.6.0,>=3.5.0->fr-core-news-md==3.5.0) (0.7.9)\n",
      "Requirement already satisfied: confection<1.0.0,>=0.0.1 in /home/ensai/.local/lib/python3.8/site-packages (from thinc<8.2.0,>=8.1.0->spacy<3.6.0,>=3.5.0->fr-core-news-md==3.5.0) (0.0.4)\n",
      "Requirement already satisfied: charset-normalizer<3,>=2 in /home/ensai/.local/lib/python3.8/site-packages (from requests<3.0.0,>=2.13.0->spacy<3.6.0,>=3.5.0->fr-core-news-md==3.5.0) (2.1.1)\n",
      "Requirement already satisfied: certifi>=2017.4.17 in /usr/lib/python3/dist-packages (from requests<3.0.0,>=2.13.0->spacy<3.6.0,>=3.5.0->fr-core-news-md==3.5.0) (2019.11.28)\n",
      "Requirement already satisfied: idna<4,>=2.5 in /usr/lib/python3/dist-packages (from requests<3.0.0,>=2.13.0->spacy<3.6.0,>=3.5.0->fr-core-news-md==3.5.0) (2.8)\n",
      "Requirement already satisfied: urllib3<1.27,>=1.21.1 in /usr/lib/python3/dist-packages (from requests<3.0.0,>=2.13.0->spacy<3.6.0,>=3.5.0->fr-core-news-md==3.5.0) (1.25.8)\n",
      "Requirement already satisfied: typing-extensions>=4.1.0 in /home/ensai/.local/lib/python3.8/site-packages (from pydantic!=1.8,!=1.8.1,<1.11.0,>=1.7.4->spacy<3.6.0,>=3.5.0->fr-core-news-md==3.5.0) (4.4.0)\n",
      "Requirement already satisfied: click<9.0.0,>=7.1.1 in /home/ensai/.local/lib/python3.8/site-packages (from typer<0.8.0,>=0.3.0->spacy<3.6.0,>=3.5.0->fr-core-news-md==3.5.0) (8.1.3)\n",
      "Requirement already satisfied: MarkupSafe>=2.0 in /home/ensai/.local/lib/python3.8/site-packages (from jinja2->spacy<3.6.0,>=3.5.0->fr-core-news-md==3.5.0) (2.1.1)\n",
      "Installing collected packages: fr-core-news-md\n",
      "Successfully installed fr-core-news-md-3.5.0\n",
      "\u001b[38;5;2m✔ Download and installation successful\u001b[0m\n",
      "You can now load the package via spacy.load('fr_core_news_md')\n"
     ]
    }
   ],
   "source": [
    "!python3 -m spacy download fr_core_news_md"
   ]
  },
  {
   "cell_type": "code",
   "execution_count": 109,
   "metadata": {},
   "outputs": [],
   "source": [
    "import spacy\n",
    "nlp = spacy.load('fr_core_news_md')"
   ]
  },
  {
   "attachments": {},
   "cell_type": "markdown",
   "metadata": {},
   "source": [
    "## Question 1"
   ]
  },
  {
   "cell_type": "code",
   "execution_count": 1,
   "metadata": {},
   "outputs": [
    {
     "name": "stdout",
     "output_type": "stream",
     "text": [
      "Air India signe un contrat record avec Airbus et Boeing prévoyant l’achat de 250 avions européens et de 220 appareils américains Tue, 14 Feb 2023 12:14:09 +0100 https://www.lemonde.fr/economie/article/2023/02/14/air-india-signe-un-contrat-record-avec-airbus-et-boeing-prevoyant-l-achat-de-250-avions-europeens-et-de-220-appareils-americains_6161763_3234.html\n",
      "Réforme des retraites : les inégalités présentes dans le système devraient perdurer Tue, 14 Feb 2023 10:17:06 +0100 https://www.lemonde.fr/politique/article/2023/02/14/retraites-les-inegalites-presentes-dans-le-systeme-devraient-perdurer_6161744_823448.html\n",
      "Guerre en Ukraine, en direct : « Nous allons fournir à Kiev les moyens de tenir pendant la contre-offensive du printemps », assure le secrétaire à la défense américain Tue, 14 Feb 2023 13:57:44 +0100 https://www.lemonde.fr/international/live/2023/02/14/guerre-en-ukraine-en-direct-nous-allons-fournir-a-kiev-les-moyens-de-tenir-pendant-la-contre-offensive-du-printemps-assure-le-secretaire-a-la-defense-americain_6161720_3210.html\n",
      "En Afghanistan, les talibans traversent leur première crise de régime Tue, 14 Feb 2023 06:54:48 +0100 https://www.lemonde.fr/international/article/2023/02/14/en-afghanistan-les-talibans-traversent-leur-premiere-crise-de-regime_6161731_3210.html\n",
      "Séisme en Turquie et en Syrie : l’OMS déplore le « pire désastre naturel en un siècle » en Europe Tue, 14 Feb 2023 11:45:58 +0100 https://www.lemonde.fr/international/article/2023/02/14/seisme-en-turquie-et-en-syrie-le-bilan-pourrait-doubler-selon-l-onu-les-autorites-au-defi-de-secourir-les-survivants_6161755_3210.html\n",
      "JO Paris 2024 : l’accessibilité pour les personnes en situation de handicap tarde à se mettre en place Tue, 14 Feb 2023 06:00:16 +0100 https://www.lemonde.fr/sport/article/2023/02/14/paris-2024-l-accessibilite-pour-les-personnes-en-situation-de-handicap-tarde-a-se-mettre-en-place_6161715_3242.html\n",
      "Paris 2024 : les Jeux olympiques commencent dans 528 jours, la sécurité sera-t-elle à la hauteur ? Tue, 14 Feb 2023 12:52:12 +0100 https://www.lemonde.fr/sport/live/2023/02/14/paris-2024-l-experience-olympique-promise-par-les-organisateurs-des-jo-represente-une-belle-somme-qui-opere-une-discrimination-sociale_6161735_3242.html\n",
      "Virus de Marburg en Guinée équatoriale : l’OMS convoque une réunion d’urgence Tue, 14 Feb 2023 12:45:57 +0100 https://www.lemonde.fr/afrique/article/2023/02/14/virus-de-marburg-en-guinee-equatoriale-l-oms-convoque-une-reunion-d-urgence_6161769_3212.html\n",
      "En Italie, Giorgia Meloni conforte son assise à droite Tue, 14 Feb 2023 11:15:31 +0100 https://www.lemonde.fr/international/article/2023/02/14/en-italie-giorgia-meloni-conforte-son-assise-a-droite_6161752_3210.html\n",
      "Non-lieu infirmé pour une policière accusée d’avoir éborgné avec un LBD un « gilet jaune » Tue, 14 Feb 2023 12:01:19 +0100 https://www.lemonde.fr/societe/article/2023/02/14/non-lieu-infirme-pour-une-policiere-accusee-d-avoir-eborgne-avec-un-lbd-un-gilet-jaune_6161761_3224.html\n",
      "En Afghanistan, les talibans traversent leur première crise de régime Tue, 14 Feb 2023 06:54:48 +0100 https://www.lemonde.fr/international/article/2023/02/14/en-afghanistan-les-talibans-traversent-leur-premiere-crise-de-regime_6161731_3210.html\n",
      "« LuxLeaks » : la CEDH reconnaît le Français Raphaël Halet comme lanceur d’alerte et condamne le Luxembourg Tue, 14 Feb 2023 12:18:06 +0100 https://www.lemonde.fr/societe/article/2023/02/14/luxleaks-la-cedh-reconnait-le-francais-raphael-halet-comme-lanceur-d-alerte-et-condamne-le-luxembourg_6161765_3224.html\n",
      "Australie : après dix ans d’attente, 19 000 réfugiés officiellement autorisés à s’installer sur l’île-continent Tue, 14 Feb 2023 11:21:59 +0100 https://www.lemonde.fr/international/article/2023/02/14/apres-dix-ans-d-attente-19-000-refugies-officiellement-autorises-a-s-installer-en-australie_6161753_3210.html\n",
      "Fonds marins : les baleines et les dauphins sous la menace de l’exploitation minière Tue, 14 Feb 2023 08:27:01 +0100 https://www.lemonde.fr/planete/article/2023/02/14/fonds-marins-les-baleines-et-les-dauphins-sous-la-menace-de-l-exploitation-miniere_6161733_3244.html\n",
      "Assassinat du journaliste Martinez Zogo : avis de tempête sur le Cameroun Tue, 14 Feb 2023 11:00:09 +0100 https://www.lemonde.fr/idees/article/2023/02/14/assassinat-du-journaliste-martinez-zogo-avis-de-tempete-sur-le-cameroun_6161750_3232.html\n",
      "Dans le Bordelais et dans le Languedoc, les vignerons traversent une crise de la surproduction Tue, 14 Feb 2023 10:46:14 +0100 https://www.lemonde.fr/economie/article/2023/02/14/dans-le-bordelais-et-dans-le-languedoc-les-vignerons-traversent-une-crise-de-la-surproduction_6161749_3234.html\n",
      "Ford prévoit de supprimer 3 800 postes en Europe Tue, 14 Feb 2023 10:44:20 +0100 https://www.lemonde.fr/economie/article/2023/02/14/ford-prevoit-de-supprimer-3-800-postes-en-europe_6161748_3234.html\n",
      "L’armée de terre tire les leçons de la guerre en Ukraine Tue, 14 Feb 2023 05:00:24 +0100 https://www.lemonde.fr/international/article/2023/02/14/l-armee-de-terre-tire-les-lecons-de-la-guerre-en-ukraine_6161705_3210.html\n"
     ]
    }
   ],
   "source": [
    "from urllib.parse import urlparse\n",
    "\n",
    "import json\n",
    "f = open('lesechos.json')\n",
    "data_lesechos = json.load(f)\n",
    "\n",
    "# (a) se premunir contre le bloquage de commande\n",
    "import ssl\n",
    "ssl._create_default_https_context = ssl._create_unverified_context\n",
    "# (b) recuperer le fichier RSS\n",
    "import feedparser as fp\n",
    "url = \"https://www.lemonde.fr/rss/une.xml\"\n",
    "data = fp.parse(url)\n",
    "\n",
    "for item in data.entries:\n",
    "    print(item.title, item.published, item.link)\n",
    "\n",
    "f = open('sources.json')\n",
    "liste_rss_flux = json.load(f)\n",
    "liste_rss_flux = list(liste_rss_flux.values())\n",
    "\n",
    "\n",
    "liste_new_articles = []\n",
    "# In lesechos.json, links are the keys but we cannot compare these links to the link we get when we parse RSS links.\n",
    "# For example, a link from lesechos.json is \n",
    "# https://investir.lesechos.fr/marches/actualites/analyse-technique-toute-poursuite-de-la-consolidation-du-contrat-cac-40-sera-limitee-1995443.php?xtor=RSS-24\n",
    "# While a link from an item entry is \n",
    "# https://investir.lesechos.fr/actu-des-valeurs/la-vie-des-actions/la-normalisation-des-ventes-de-velo-apres-le-boom-du-covid-laisse-des-traces-dans-les-comptes-de-thule-1905607\n",
    "# So we need to compare only /marches/actualites/analyse-technique-toute-poursuite-de-la-consolidation-du-contrat-cac-40-sera-limitee\n",
    "liste_url_article_already_in_base = [urlparse(temp).path[:-12] for temp in list(data_lesechos.keys())]\n",
    "for url in liste_rss_flux:\n",
    "    data_rss = fp.parse(url)\n",
    "    for item in data_rss.entries:\n",
    "        link = item.link\n",
    "        res = urlparse(link)\n",
    "        if res.path[:-8] not in liste_url_article_already_in_base:\n",
    "            liste_new_articles.append(link)\n",
    "    "
   ]
  },
  {
   "attachments": {},
   "cell_type": "markdown",
   "metadata": {},
   "source": [
    "## Question 2"
   ]
  },
  {
   "attachments": {},
   "cell_type": "markdown",
   "metadata": {},
   "source": [
    "Les balises pour le titre et le texte d'un article sur lesechos.fr ne sont pas clairement identifiables (h1 class=\"sc-14kwckt-6 sc-14omazk-0 jtuxZx fsUfny\" pour le title par exemple). Utiliser ```newspaper``` nous simplifie la tâche : on peut accéder facilement aux élements de la page qui nous intéressent. De plus ce package est optimisé pour les articles de presse alors qu'un package comme BeautifulSoup serait plus contraignant ici."
   ]
  },
  {
   "cell_type": "code",
   "execution_count": 111,
   "metadata": {},
   "outputs": [
    {
     "name": "stdout",
     "output_type": "stream",
     "text": [
      "La normalisation des ventes de vélo, après le boom du Covid, laisse des traces dans les comptes de Thule []\n",
      "Par Marjorie Encelot\n",
      "\n",
      "Publié le 10 févr. 2023 à 15:31 Mis à jour le 10 févr. 2023 à 15:57\n",
      "\n",
      "L’année 2021, pendant la crise sanitaire, a été « exceptionnelle » pour le vélo. Trop, finalement, quand à l’instar du suédois Thule Group (-17% à la Bourse de Stockholm, plus forte baisse aujourd’hui de l’indice européen Stoxx 600), on est une entreprise cotée en Bourse, qui vend des porte-vélos et des remorques pour vélo, et que la base de comparaison est historiquement élevée au moment de présenter ses comptes 2021.\n",
      "\n",
      "Le quatrième trimestre, au cours duquel les ventes ont chuté de près de 21% à taux de change constants (+28% par rapport à 2019), a été particulièrement « challengeant », a reconnu le patron Jan Magnus Welander lors de la conférence téléphonique avec les analystes financiers, tant les trois derniers mois de 2021 avaient été « forts », aux Etats-Unis et au Canada essentiellement. La Bourse a « la mémoire très courte », les chiffres ne sont « pas aussi mauvais que cela puisse paraître. » Simplement, en raison de la pandémie de Covid-19, « les clients ont utilisé [en 2021] plus que jamais leur vélo, à la fois pour les déplacements domicile-travail, car il n'y avait pas de métros et de bus ou ils n’avaient peut-être pas envie de les prendre, mais aussi pour s'amuser le week-end », explique, la voix souriante, Jan Magnus Welander.\n",
      "\n",
      "A lire aussi :\n",
      "\n",
      "Au vrai, avec des ventes nettes de 10,14 milliards de couronnes (près de 1 milliard d’euros), Thule Group a réalisé en 2022 la deuxième meilleure année de son histoire, après 2021 (10,37 milliards de couronnes), grâce à « un début d'année phénoménal, avec une pré-saison fantastique pour le marché du vélo, et en général, une très bonne performance dans toutes les catégories de Thule ». Outre des produits liés au vélo (41% du chiffre d’affaires en 2022 versus 37% avant la pandémie), l’entreprise suédoise - qui réalise plus de 60% de ses ventes en Europe (dont 22% en Allemagne) - propose également des coffres de toit, des porte-skis et autres accessoires de transport pour voitures et camping-cars, des porte-bébé pour la marche en montagne, ainsi que des sacs à dos ou des housses pour tablette sous la marque Case Logic. Mais les porte-vélos, via une barre sur le toit ou une plateforme sur la boule d’attelage, ont tenu, pendant la crise sanitaire, une place de plus en plus importante dans le chiffre d’affaires de Thule, positionné sur le marché haut de gamme. « Certains trimestres, les produits liés à la bicyclette ont représenté jusqu'à 60% des ventes », indique Jan Magnus Welander. Une aubaine puisque ces produits sont, au global, les mieux margés du groupe.\n",
      "\n",
      "Moins de volumes pour absorber les coûts fixes\n",
      "\n",
      "L’entreprise suédoise a notamment bénéficié du boom des vélos électriques. Ils « sont plus lourds, plus chers, donc la probabilité que quelqu'un paie un produit haut de gamme pour transporter ses vélos électriques est beaucoup plus élevée, avance le PDG. Cela signifie que nous prenons une plus grande part du marché à des prix élevés. » Le retour en force du vélo et la montée en gamme ont été des puissants moteurs de croissance pour Thule qui, par ailleurs, en raison notamment de son engagement à atteindre la neutralité carbone d’ici à 2050, s’est retrouvé avec l’avantage, par rapport à ses concurrents, d’avoir des fournisseurs « à proximité du marché alors que nos concurrents faisaient tous avec des sous-traitants en Chine. Cela nous a permis de répondre plus rapidement - bien que nous ayons eu du mal à le faire - à l'augmentation de la demande qui s'est produite au cours du second semestre 2020 et tout au long de l'année 2021. [Nous avons conquis] des parts de marché à des prix auxquels nous n'aurions pas songé en temps normal. »\n",
      "\n",
      "A lire aussi :\n",
      "\n",
      "Le bénéfice net de Thule Group a atteint le record de 1,79 milliard de couronnes en 2021, avant de retomber à 1,275 milliard ou 110 millions d’euros l’année dernière. La marge opérationnelle, qui était de 22,5% en 2021, ne s’élevait plus qu’à 16,8% en 2022, en raison surtout d’un bénéfice opérationnel qui a plongé de 98% en données publiées au quatrième trimestre (à 4 millions de couronnes, bien en dessous des 12 millions attendus par le consensus des analystes compilé par FactSet). « Un mix produit défavorable, des vents contraires inflationnistes sur les prix des matières premières et le fret ainsi que des investissements continus dans le développement de produits pour préparer la croissance future ont entraîné une baisse de la rentabilité », commente l’analyste Adela Dashian de la banque d’investissement Jefferies, qui tablait sur un Ebit de 9 millions sur les trois derniers mois de l’année.\n",
      "\n",
      "La marge d'Ebit, au quatrième trimestre, est ressortie à 0,2%, contre 10,3% au quatrième trimestre 2021 et une marge moyenne de 5,3% avant le Covid, entre 2017 et 2019. La marge brute trimestrielle s’est élevée, quant à elle, à 31,5%, soit 2,2 points de pourcentage de moins qu'au quatrième trimestre 2021. Par rapport à il y a un an, à cause de volumes de ventes plus faibles, Thule a moins été en capacité d’absorber les coûts fixes (en augmentation du fait notamment d’effets de change défavorables et de la dépréciation de la couronne) tandis que « les coûts de production variables ont baissé de manière significative et proportionnelle au recul des ventes », précise le directeur financier, Jonas Lindqvist.\n",
      "\n",
      "Départ surprise du bien aimé patron\n",
      "\n",
      "« L'Ebit du trimestre, qui est toujours notre trimestre le plus faible en termes d'Ebit, s'est élevé à 4 millions de couronnes suédoises, ce qui signifie que nous avons tout juste atteint un résultat positif », constate Jan Magnus Welander, malgré « un flux de trésorerie opérationnel clairement plus fort par rapport à la même période comparable de l'année dernière. [Au quatrième trimestre 2021], nous avions constitué d'énormes stocks pour la saison à venir. Cette fois, nous n'avons pas eu besoin de le faire, ayant déjà des niveaux de stocks élevés en 2022 », qui engendrent d’ailleurs des coûts de gestion en augmentation.\n",
      "\n",
      "Le déstockage des produits vélos (dont la part dans le chiffre d’affaires est revenue, fin 2022, à 37% sur douze mois glissants) et une base de comparaison toujours élevée devraient peser à nouveau sur les performances financières de Thule au premier trimestre 2023. Le PDG parle d’« un démarrage lent. Nous recevons le signal que les stocks diminuent, [mais] pas autant que nous l'aurions souhaité ou que les détaillants l'auraient souhaité, mais ils diminuent. Il y a, chez les détaillants, un facteur de peur évident, ils préfèrent même manquer de marchandises pendant un certain temps parce qu'ils n'ont pas confiance. » Jan Magnus Welander explique par ailleurs que leurs revendeurs, conscients qu’ils peuvent être livrés le lendemain de leur commande, n’ont pas d’urgence à restocker. La direction de l’entreprise reconnaît des défis à court terme, mais dit avoir une « grande confiance dans notre stratégie et des tendances positives à long terme. »\n",
      "\n",
      "L’ambiance était détendue pendant la conférence téléphonique avec les analystes. « Nous avons un projet très cool - je ne peux pas vous en dire plus car mon équipe de marketing me tuerait -, mais je peux vous dire que nous avons un nouveau système arrière de porte-vélos haut de gamme qui sera commercialisé en mai », a teasé le patron, qui va quitter ses fonctions. « Thule annonce le départ du célèbre et respecté PDG Magnus Welander, après treize ans à son poste et dix-sept ans dans l'entreprise, déplore l’analyste de chez Jefferies. Bien que nous soyons surpris, nous sommes quelque peu réconfortés par la nomination simultanée de Mattias Ankarberg (actuel PDG de Byggmax) pour le remplacer. M. Ankarberg, membre du conseil d'administration de Thule depuis 2018, possède plus de vingt ans d'expérience dans l'industrie des biens de consommation. » Il prendra ses fonctions au plus tard le 9 août.\n",
      "\n",
      "Jan Magnus Welander aura été le seul patron de Thule que la Bourse ait jamais connu, l'entreprise étant entrée sur Nasdaq OMX en 2014, au prix de 70 couronnes par action avant d'atteindre le record de 556,50 en janvier 2022, année au cours de laquelle les titres perdront finalement 60% de leur valeur. La seule année, avec 2018, qui s’avèrera perdante en Bourse pour Thule.\n",
      "https://media.lesechos.com/api/v1/images/view/63e653ee6850761e8425f4db/1280x720/thule-2.jpg\n"
     ]
    }
   ],
   "source": [
    "import newspaper as np\n",
    "\n",
    "url_one_article = liste_new_articles[0]\n",
    "\n",
    "article = np.Article('https://investir.lesechos.fr/actu-des-valeurs/la-vie-des-actions/la-normalisation-des-ventes-de-velo-apres-le-boom-du-covid-laisse-des-traces-dans-les-comptes-de-thule-1905607')\n",
    "article.download()\n",
    "article.parse()\n",
    "\n",
    "print(article.title, article.authors)\n",
    "print(article.text)\n",
    "print(article.top_image)"
   ]
  },
  {
   "attachments": {},
   "cell_type": "markdown",
   "metadata": {},
   "source": [
    "## Question 3"
   ]
  },
  {
   "cell_type": "code",
   "execution_count": 113,
   "metadata": {},
   "outputs": [],
   "source": [
    "from datetime import datetime"
   ]
  },
  {
   "cell_type": "code",
   "execution_count": 114,
   "metadata": {},
   "outputs": [],
   "source": [
    "for url in liste_new_articles:\n",
    "    article = np.Article(url)\n",
    "    article.download()\n",
    "    article.parse()\n",
    "    temp_dict = {'title' : article.title, 'data' : article.publish_date.strftime(\"%m/%d/%Y, %H:%M:%S\"), 'author' : article.authors, 'category' : None, 'content' : article.text, 'image_link' : article.top_image, 'image_file' : None}\n",
    "    data_lesechos[url] = temp_dict\n"
   ]
  },
  {
   "cell_type": "code",
   "execution_count": 116,
   "metadata": {},
   "outputs": [],
   "source": [
    "with open(\"lesechos_updated.json\", \"w\") as outfile:\n",
    "    json.dump(data_lesechos, outfile)"
   ]
  },
  {
   "attachments": {},
   "cell_type": "markdown",
   "metadata": {},
   "source": [
    "## Question 4"
   ]
  },
  {
   "attachments": {},
   "cell_type": "markdown",
   "metadata": {},
   "source": [
    "On peut télécharger l'image à partir de l'url de l'image trouvé précédemment (cf cellule précédente) puis sauvegarder cette image dans un dossier echod_db à la racine du projet."
   ]
  },
  {
   "attachments": {},
   "cell_type": "markdown",
   "metadata": {},
   "source": [
    "## Question 5"
   ]
  },
  {
   "attachments": {},
   "cell_type": "markdown",
   "metadata": {},
   "source": [
    "We can look into social medias such as Twitter. For example, we could follow the profile of the newspaper and for an article (in case they tweet about their article) look at some statistics such as views, RT, etc..."
   ]
  },
  {
   "attachments": {},
   "cell_type": "markdown",
   "metadata": {},
   "source": [
    "## Question 7"
   ]
  },
  {
   "attachments": {},
   "cell_type": "markdown",
   "metadata": {},
   "source": [
    "**A COMPLETER**"
   ]
  },
  {
   "attachments": {},
   "cell_type": "markdown",
   "metadata": {},
   "source": [
    "## Question 8"
   ]
  },
  {
   "cell_type": "code",
   "execution_count": 1,
   "metadata": {},
   "outputs": [
    {
     "name": "stderr",
     "output_type": "stream",
     "text": [
      "2023-02-14 14:55:32.987183: I tensorflow/core/platform/cpu_feature_guard.cc:193] This TensorFlow binary is optimized with oneAPI Deep Neural Network Library (oneDNN) to use the following CPU instructions in performance-critical operations:  AVX2 FMA\n",
      "To enable them in other operations, rebuild TensorFlow with the appropriate compiler flags.\n",
      "2023-02-14 14:55:33.174536: W tensorflow/compiler/xla/stream_executor/platform/default/dso_loader.cc:64] Could not load dynamic library 'libcudart.so.11.0'; dlerror: libcudart.so.11.0: cannot open shared object file: No such file or directory\n",
      "2023-02-14 14:55:33.174554: I tensorflow/compiler/xla/stream_executor/cuda/cudart_stub.cc:29] Ignore above cudart dlerror if you do not have a GPU set up on your machine.\n",
      "2023-02-14 14:55:34.086550: W tensorflow/compiler/xla/stream_executor/platform/default/dso_loader.cc:64] Could not load dynamic library 'libnvinfer.so.7'; dlerror: libnvinfer.so.7: cannot open shared object file: No such file or directory\n",
      "2023-02-14 14:55:34.086633: W tensorflow/compiler/xla/stream_executor/platform/default/dso_loader.cc:64] Could not load dynamic library 'libnvinfer_plugin.so.7'; dlerror: libnvinfer_plugin.so.7: cannot open shared object file: No such file or directory\n",
      "2023-02-14 14:55:34.086643: W tensorflow/compiler/tf2tensorrt/utils/py_utils.cc:38] TF-TRT Warning: Cannot dlopen some TensorRT libraries. If you would like to use Nvidia GPU with TensorRT, please make sure the missing libraries mentioned above are installed properly.\n",
      "2023-02-14 14:55:35.240837: W tensorflow/compiler/xla/stream_executor/platform/default/dso_loader.cc:64] Could not load dynamic library 'libcuda.so.1'; dlerror: libcuda.so.1: cannot open shared object file: No such file or directory\n",
      "2023-02-14 14:55:35.240876: W tensorflow/compiler/xla/stream_executor/cuda/cuda_driver.cc:265] failed call to cuInit: UNKNOWN ERROR (303)\n",
      "2023-02-14 14:55:35.240892: I tensorflow/compiler/xla/stream_executor/cuda/cuda_diagnostics.cc:156] kernel driver does not appear to be running on this host (ensai-Precision-3520): /proc/driver/nvidia/version does not exist\n"
     ]
    }
   ],
   "source": [
    "import spacy"
   ]
  },
  {
   "cell_type": "code",
   "execution_count": 3,
   "metadata": {},
   "outputs": [],
   "source": [
    "import json"
   ]
  },
  {
   "cell_type": "code",
   "execution_count": 4,
   "metadata": {},
   "outputs": [],
   "source": [
    "data_lesechos_updated = json.load(open('lesechos_updated.json'))\n",
    "list_text = [temp['content'] for temp in list(data_lesechos_updated.values())]\n",
    "nlp = spacy.load('fr_core_news_md', disable=['tagging', 'parser'])\n",
    "docs = list(nlp.pipe(list_text))\n",
    "list_entites_per_doc = []\n",
    "for doc in docs:\n",
    "    temp = []\n",
    "    for entity in doc.ents:\n",
    "        temp.append({'text' : str(entity), 'label' : str(entity.label_), 'start' : str(entity.start), 'end' : str(entity.end)})\n",
    "    list_entites_per_doc.append(temp)\n"
   ]
  },
  {
   "attachments": {},
   "cell_type": "markdown",
   "metadata": {},
   "source": [
    "## Question 9"
   ]
  },
  {
   "cell_type": "code",
   "execution_count": 5,
   "metadata": {},
   "outputs": [],
   "source": [
    "import itertools\n",
    "\n",
    "flat_list = list(itertools.chain(*list_entites_per_doc))"
   ]
  },
  {
   "cell_type": "code",
   "execution_count": 6,
   "metadata": {},
   "outputs": [],
   "source": [
    "from collections import defaultdict\n",
    "\n",
    "\n",
    "label_counts = defaultdict(int)\n",
    "for item in flat_list:\n",
    "    label_counts[(item['text'], item['label'])] += 1\n",
    "\n",
    "result = defaultdict(list)\n",
    "for key, count in label_counts.items():\n",
    "    result[key[1]].append((count, key[0]))\n",
    "\n",
    "for label, items in result.items():\n",
    "    items.sort(reverse=True)\n",
    "    result[label] = items[:20]\n",
    "\n",
    "list_PER = result['PER']\n",
    "list_ORG = result['ORG']\n",
    "list_LOC = result['LOC']\n",
    "list_MISC = result['MISC']\n"
   ]
  },
  {
   "cell_type": "code",
   "execution_count": 21,
   "metadata": {},
   "outputs": [
    {
     "data": {
      "text/plain": [
       "[(471, 'Jerome Powell'),\n",
       " (347, 'Omicron'),\n",
       " (306, 'Bloomberg'),\n",
       " (247, 'Joe Biden'),\n",
       " (246, 'Blandine Hénault'),\n",
       " (238, 'Hermès'),\n",
       " (214, 'Christine Lagarde'),\n",
       " (210, 'Marc Angrand'),\n",
       " (171, 'Laetitia Volga'),\n",
       " (169, 'Morgan Stanley'),\n",
       " (122, 'Jackson Hole'),\n",
       " (103, 'JPMorgan'),\n",
       " (99, 'Michael Hewson'),\n",
       " (98, 'Claude Chendjou'),\n",
       " (97, 'Bertrand Boucey'),\n",
       " (94, 'Pivot'),\n",
       " (88, 'Jean-Michel Bélot'),\n",
       " (85, 'Sophie Louet'),\n",
       " (84, 'Berenberg'),\n",
       " (75, 'Emmanuel Macron')]"
      ]
     },
     "execution_count": 21,
     "metadata": {},
     "output_type": "execute_result"
    }
   ],
   "source": [
    "list_PER"
   ]
  },
  {
   "attachments": {},
   "cell_type": "markdown",
   "metadata": {},
   "source": [
    "On compte pour chaque entité (i.e. le \"texte\") le nombre d'occurences et on trie en fonction de ce nombre."
   ]
  },
  {
   "attachments": {},
   "cell_type": "markdown",
   "metadata": {},
   "source": [
    "## Question 10"
   ]
  },
  {
   "cell_type": "code",
   "execution_count": 59,
   "metadata": {},
   "outputs": [
    {
     "data": {
      "text/plain": [
       "[{'text': 'Londres', 'label': 'LOC', 'start': '31', 'end': '32'}]"
      ]
     },
     "execution_count": 59,
     "metadata": {},
     "output_type": "execute_result"
    }
   ],
   "source": [
    "list_entites_per_doc[41]"
   ]
  },
  {
   "cell_type": "code",
   "execution_count": 7,
   "metadata": {},
   "outputs": [],
   "source": [
    "def nb_co_occurence(pair_entities : tuple, types : tuple):\n",
    "    first_entity, second_entity = pair_entities\n",
    "    first_type, second_type = types\n",
    "    count = 0\n",
    "    for doc in list_entites_per_doc:\n",
    "        indice_first = False\n",
    "        indice_second = False\n",
    "        for entity in doc:\n",
    "            if entity['text'] == first_entity and entity['label'] == first_type:\n",
    "                indice_first = True\n",
    "            if entity['text'] == second_entity and entity['label'] == second_type:\n",
    "                indice_second = True\n",
    "        if indice_first and indice_second:\n",
    "            count += 1\n",
    "    return count"
   ]
  },
  {
   "cell_type": "code",
   "execution_count": 8,
   "metadata": {},
   "outputs": [
    {
     "data": {
      "text/plain": [
       "111"
      ]
     },
     "execution_count": 8,
     "metadata": {},
     "output_type": "execute_result"
    }
   ],
   "source": [
    "nb_co_occurence(('Omicron', 'Cac 40'), ('PER', 'MISC'))"
   ]
  },
  {
   "attachments": {},
   "cell_type": "markdown",
   "metadata": {},
   "source": [
    "## Question 11"
   ]
  },
  {
   "cell_type": "code",
   "execution_count": 19,
   "metadata": {},
   "outputs": [],
   "source": [
    "import itertools\n",
    "from itertools import permutations\n",
    " \n",
    "# initialize lists\n",
    "list_per = [{'text' : e[1], 'label' : 'PER'} for e in list_PER]\n",
    "list_org = [{'text' : e[1], 'label' : 'ORG'} for e in list_ORG]\n",
    "list_loc = [(e[1], 'LOC') for e in list_LOC]\n",
    "list_misc = [(e[1], 'MISC') for e in list_MISC]\n",
    " \n"
   ]
  },
  {
   "cell_type": "code",
   "execution_count": 20,
   "metadata": {},
   "outputs": [
    {
     "data": {
      "text/plain": [
       "[('Jerome Powell', 'PER'),\n",
       " ('Omicron', 'PER'),\n",
       " ('Bloomberg', 'PER'),\n",
       " ('Joe Biden', 'PER'),\n",
       " ('Blandine Hénault', 'PER'),\n",
       " ('Hermès', 'PER'),\n",
       " ('Christine Lagarde', 'PER'),\n",
       " ('Marc Angrand', 'PER'),\n",
       " ('Laetitia Volga', 'PER'),\n",
       " ('Morgan Stanley', 'PER'),\n",
       " ('Jackson Hole', 'PER'),\n",
       " ('JPMorgan', 'PER'),\n",
       " ('Michael Hewson', 'PER'),\n",
       " ('Claude Chendjou', 'PER'),\n",
       " ('Bertrand Boucey', 'PER'),\n",
       " ('Pivot', 'PER'),\n",
       " ('Jean-Michel Bélot', 'PER'),\n",
       " ('Sophie Louet', 'PER'),\n",
       " ('Berenberg', 'PER'),\n",
       " ('Emmanuel Macron', 'PER')]"
      ]
     },
     "execution_count": 20,
     "metadata": {},
     "output_type": "execute_result"
    }
   ],
   "source": [
    "list_per"
   ]
  },
  {
   "cell_type": "code",
   "execution_count": null,
   "metadata": {},
   "outputs": [],
   "source": [
    "# create empty list to store the\n",
    "# combinations\n",
    "unique_combinations = []\n",
    " \n",
    "# Getting all permutations of list_1\n",
    "# with length of list_2\n",
    "permut = itertools.permutations(list_1, len(list_2))\n",
    " \n",
    "# zip() is called to pair each permutation\n",
    "# and shorter list element into combination\n",
    "for comb in permut:\n",
    "    zipped = zip(comb, list_2)\n",
    "    unique_combinations.append(list(zipped))"
   ]
  }
 ],
 "metadata": {
  "kernelspec": {
   "display_name": "Python 3",
   "language": "python",
   "name": "python3"
  },
  "language_info": {
   "codemirror_mode": {
    "name": "ipython",
    "version": 3
   },
   "file_extension": ".py",
   "mimetype": "text/x-python",
   "name": "python",
   "nbconvert_exporter": "python",
   "pygments_lexer": "ipython3",
   "version": "3.8.10"
  },
  "orig_nbformat": 4,
  "vscode": {
   "interpreter": {
    "hash": "916dbcbb3f70747c44a77c7bcd40155683ae19c65e1c03b4aa3499c5328201f1"
   }
  }
 },
 "nbformat": 4,
 "nbformat_minor": 2
}
